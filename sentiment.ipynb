{
 "cells": [
  {
   "cell_type": "code",
   "execution_count": null,
   "metadata": {},
   "outputs": [],
   "source": [
    "#### Tweets code\n",
    "#key:  rWX6vlTgRV5HuRO7t87g5SNLe\n",
    "#key secret:   VZLOhdlyXbkBLDHISr9lPZ7glw8IHOgHOckOtiYiEQMdkr9Gt2\n",
    "# Bearer Token: AAAAAAAAAAAAAAAAAAAAAITqiAEAAAAAzIV1D1Q%2BwloIreyMrOlIt0W%2BC40%3Dg27Dt9nRgSRsSDLZ5A1NjLKGQEKPVCP01F47G8CKj9vYkd1yy3\n",
    "\n",
    "#access token:    1581531956151549954-hW20j6ovcDfdyTjKUh56jizrs7k9T6\n",
    "#access token secret:   bA1LsMTLLn01bIMelvL9Wj2Ty3zeMbfnif4ytEBSpT140\n"
   ]
  },
  {
   "cell_type": "code",
   "execution_count": 92,
   "metadata": {},
   "outputs": [],
   "source": [
    "import os\n",
    "import pandas as pd\n",
    "import requests\n",
    "import json\n",
    "import time\n",
    "import dateutil\n",
    "import configparser\n",
    "from dateutil.relativedelta import relativedelta\n",
    "import urllib3\n",
    "urllib3.disable_warnings(urllib3.exceptions.InsecureRequestWarning)\n",
    "from datetime import datetime \n",
    "from datetime import date\n",
    "import calendar\n",
    "import sys"
   ]
  },
  {
   "cell_type": "code",
   "execution_count": 95,
   "metadata": {},
   "outputs": [],
   "source": [
    "end = datetime.date(2020,5,1)\n",
    "start = datetime.date(2020, 1, 1)"
   ]
  },
  {
   "cell_type": "code",
   "execution_count": 130,
   "metadata": {},
   "outputs": [
    {
     "data": {
      "text/plain": [
       "['202001',\n",
       " '202001',\n",
       " '202001',\n",
       " '202001',\n",
       " '202001',\n",
       " '202001',\n",
       " '202001',\n",
       " '202001',\n",
       " '202001',\n",
       " '202001',\n",
       " '202001',\n",
       " '202001',\n",
       " '202001',\n",
       " '202001',\n",
       " '202001',\n",
       " '202001',\n",
       " '202001',\n",
       " '202001',\n",
       " '202001',\n",
       " '202001',\n",
       " '202001',\n",
       " '202001',\n",
       " '202001',\n",
       " '202001',\n",
       " '202001',\n",
       " '202001',\n",
       " '202001',\n",
       " '202001',\n",
       " '202001',\n",
       " '202001',\n",
       " '202001',\n",
       " '202002',\n",
       " '202002',\n",
       " '202002',\n",
       " '202002',\n",
       " '202002',\n",
       " '202002',\n",
       " '202002',\n",
       " '202002',\n",
       " '202002',\n",
       " '202002',\n",
       " '202002',\n",
       " '202002',\n",
       " '202002',\n",
       " '202002',\n",
       " '202002',\n",
       " '202002',\n",
       " '202002',\n",
       " '202002',\n",
       " '202002',\n",
       " '202002',\n",
       " '202002',\n",
       " '202002',\n",
       " '202002',\n",
       " '202002',\n",
       " '202002',\n",
       " '202002',\n",
       " '202002',\n",
       " '202002',\n",
       " '202002',\n",
       " '202003',\n",
       " '202003',\n",
       " '202003',\n",
       " '202003',\n",
       " '202003',\n",
       " '202003',\n",
       " '202003',\n",
       " '202003',\n",
       " '202003',\n",
       " '202003',\n",
       " '202003',\n",
       " '202003',\n",
       " '202003',\n",
       " '202003',\n",
       " '202003',\n",
       " '202003',\n",
       " '202003',\n",
       " '202003',\n",
       " '202003',\n",
       " '202003',\n",
       " '202003',\n",
       " '202003',\n",
       " '202003',\n",
       " '202003',\n",
       " '202003',\n",
       " '202003',\n",
       " '202003',\n",
       " '202003',\n",
       " '202003',\n",
       " '202003',\n",
       " '202003',\n",
       " '202004',\n",
       " '202004',\n",
       " '202004',\n",
       " '202004',\n",
       " '202004',\n",
       " '202004',\n",
       " '202004',\n",
       " '202004',\n",
       " '202004',\n",
       " '202004',\n",
       " '202004',\n",
       " '202004',\n",
       " '202004',\n",
       " '202004',\n",
       " '202004',\n",
       " '202004',\n",
       " '202004',\n",
       " '202004',\n",
       " '202004',\n",
       " '202004',\n",
       " '202004',\n",
       " '202004',\n",
       " '202004',\n",
       " '202004',\n",
       " '202004',\n",
       " '202004',\n",
       " '202004',\n",
       " '202004',\n",
       " '202004',\n",
       " '202004',\n",
       " '202005']"
      ]
     },
     "execution_count": 130,
     "metadata": {},
     "output_type": "execute_result"
    }
   ],
   "source": [
    "ymd_in_range = [x.split(' ') for x in pd.date_range(start, end).strftime(\"%Y %m %d\").tolist()]\n",
    "ymd_in_range\n",
    "ymd = [x.replace(' ','') for x in pd.date_range(start, end).strftime(\"%Y %m\").tolist()]\n",
    "ymd"
   ]
  },
  {
   "cell_type": "code",
   "execution_count": 108,
   "metadata": {},
   "outputs": [],
   "source": [
    "KEY = \"xGrPsBfIxHdQnAuxxtGzFcTrmTSJ2uEH\"\n",
    "\n",
    "year = 2020\n",
    "\n",
    "month = [x[1] for x in ymd_in_range]\n",
    "day = [x[2] for x in ymd_in_range]\n",
    "\n"
   ]
  },
  {
   "cell_type": "code",
   "execution_count": 158,
   "metadata": {},
   "outputs": [],
   "source": [
    "from pandas import DataFrame\n",
    "\n",
    "\n",
    "api = 'https://api.nytimes.com/svc/search/v2/articlesearch.json?q=lockdown&begin_date=20200101&end_date=20201231&api-key=xGrPsBfIxHdQnAuxxtGzFcTrmTSJ2uEH'\n",
    "\n",
    "response = requests.get(api)\n",
    "data = response.json()\n",
    "articles = data[\"response\"][\"docs\"]\n",
    "articles\n",
    "\n",
    "\n",
    "\n",
    "df = pd.DataFrame(articles)\n",
    "df[\"pub_date\"]\n",
    "#df.columns\n",
    "#df[\"headline\"]\n",
    "#df[\"keywords\"]\n",
    "#df\n",
    "\n",
    "df.to_csv('NYT.csv')"
   ]
  },
  {
   "cell_type": "markdown",
   "metadata": {},
   "source": [
    "Sort by date"
   ]
  },
  {
   "cell_type": "code",
   "execution_count": 159,
   "metadata": {},
   "outputs": [
    {
     "data": {
      "text/plain": [
       "0    2020-05-29T09:00:31+0000\n",
       "1    2020-06-03T09:00:15+0000\n",
       "2    2020-03-31T17:18:46+0000\n",
       "3    2020-05-19T09:00:31+0000\n",
       "4    2020-11-13T03:42:43+0000\n",
       "5    2020-06-26T16:09:25+0000\n",
       "6    2020-05-15T09:00:46+0000\n",
       "7    2020-03-25T23:54:13+0000\n",
       "8    2020-11-05T11:03:46+0000\n",
       "9    2020-05-24T15:00:06+0000\n",
       "Name: pub_date, dtype: object"
      ]
     },
     "execution_count": 159,
     "metadata": {},
     "output_type": "execute_result"
    }
   ],
   "source": [
    "df[\"pub_date\"]\n",
    "# order by date\n",
    "# key words economy "
   ]
  }
 ],
 "metadata": {
  "kernelspec": {
   "display_name": "Python 3.10.7 64-bit",
   "language": "python",
   "name": "python3"
  },
  "language_info": {
   "codemirror_mode": {
    "name": "ipython",
    "version": 3
   },
   "file_extension": ".py",
   "mimetype": "text/x-python",
   "name": "python",
   "nbconvert_exporter": "python",
   "pygments_lexer": "ipython3",
   "version": "3.10.7"
  },
  "orig_nbformat": 4,
  "vscode": {
   "interpreter": {
    "hash": "68b0afbc283123c9bcf8174d764b1122d5b24fb670d5ec13e59fb46474417b62"
   }
  }
 },
 "nbformat": 4,
 "nbformat_minor": 2
}
